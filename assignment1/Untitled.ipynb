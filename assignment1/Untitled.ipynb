{
 "cells": [
  {
   "cell_type": "code",
   "execution_count": null,
   "metadata": {},
   "outputs": [],
   "source": [
    "A = np.array([1,2,3],[4,5,6])\n",
    "np.sum(A, axis=0)"
   ]
  },
  {
   "cell_type": "code",
   "execution_count": 46,
   "metadata": {},
   "outputs": [
    {
     "name": "stdout",
     "output_type": "stream",
     "text": [
      "[[1 2 3]\n",
      " [4 5 6]]\n",
      "[[ 7  8  9]\n",
      " [10 11 12]]\n",
      "[[-6 -6 -6]\n",
      " [-6 -6 -6]]\n",
      "216\n",
      "[[3 4 5]]\n",
      "[[-2 -2 -2]\n",
      " [ 1  1  1]]\n",
      "[[2 3 4]\n",
      " [5 6 7]]\n"
     ]
    }
   ],
   "source": [
    "#test code\n",
    "A = np.array([[1,2,3],[4,5,6]])\n",
    "print(A)\n",
    "B = np.array([[7,8,9],[10,11,12]])\n",
    "print(B)\n",
    "print(A-B)\n",
    "print(np.sum(np.square(A-B)))\n",
    "C = np.array([[3,4,5]])\n",
    "print(C)\n",
    "print(A-C)\n",
    "D = np.array([1,2,3,4,5,6,7,8,9,10,11,12,13,14,15])\n",
    "print(D[A])"
   ]
  },
  {
   "cell_type": "code",
   "execution_count": 6,
   "metadata": {},
   "outputs": [
    {
     "name": "stdout",
     "output_type": "stream",
     "text": [
      "[[1 2 2 3 3 3 3 1 2 1 2 2 1 1 3 3 3 2 2 1 2 2]]\n",
      "[0 6 9 7] [0 1 2 3 4]\n"
     ]
    },
    {
     "data": {
      "text/plain": [
       "2"
      ]
     },
     "execution_count": 6,
     "metadata": {},
     "output_type": "execute_result"
    }
   ],
   "source": [
    "a = np.array([[1,2,2,3,3,3,3,1,2,1,2,2,1,1,3,3,3,2,2,1,2,2]])\n",
    "print(a)\n",
    "x, y = np.histogram(a, bins=np.arange(5))\n",
    "print(x, y)\n",
    "np.argmax(x)"
   ]
  }
 ],
 "metadata": {
  "kernelspec": {
   "display_name": "Python 3",
   "language": "python",
   "name": "python3"
  },
  "language_info": {
   "codemirror_mode": {
    "name": "ipython",
    "version": 3
   },
   "file_extension": ".py",
   "mimetype": "text/x-python",
   "name": "python",
   "nbconvert_exporter": "python",
   "pygments_lexer": "ipython3",
   "version": "3.6.5"
  }
 },
 "nbformat": 4,
 "nbformat_minor": 2
}
