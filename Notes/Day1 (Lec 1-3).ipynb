{
 "cells": [
  {
   "cell_type": "code",
   "execution_count": 1,
   "metadata": {},
   "outputs": [],
   "source": [
    "import matplotlib.pyplot as plt\n",
    "import numpy as np\n",
    "import ipyvolume as ipv\n",
    "from matplotlib import cm\n",
    "\n",
    "%matplotlib inline"
   ]
  },
  {
   "cell_type": "markdown",
   "metadata": {},
   "source": [
    "# CS231n - Day1 (Lecture 1-3)"
   ]
  },
  {
   "cell_type": "markdown",
   "metadata": {},
   "source": [
    "## Introduction\n",
    "\n",
    "* CS231n is about visual recognition\n",
    "\n",
    "\n",
    "* Why is that important?\n",
    "    1. Increase in number of sensors (e.g. camera)  \n",
    "        * Exponential growth in visual data\n",
    "        * Most of the data flying around in the internet right now is **visual** data  \n",
    "    2. Visual data $\\sim$ Dark matter of the internet\n",
    "        * In the sense that they take the *majority*, yet they are *hard to recognize*\n",
    "        \n",
    "        \n",
    "* Huge breakthrough in 2012 (Alexnet)\n",
    "    * But the concept itself is not quite new! (e.g. LeCun)\n",
    "    * Then why did it rise so late?\n",
    "        1. Number of transisters(CPU)\n",
    "        2. GPU\n",
    "        3. Number of datasets ($10^7_{MNIST}$ vs $10^{14}_{ImageNET}$)\n",
    "        \n",
    "\n",
    "* There's still a **lot** of challenges left to tackle!\n",
    "    * Object detection at pixel level\n",
    "    * Movement / activity detection\n",
    "    * The **\"Holy grail\"** - to 'understand' the story of an image in a deep and rich manner.\n",
    "    \n",
    "      "
   ]
  },
  {
   "cell_type": "markdown",
   "metadata": {},
   "source": [
    "## Classifiers\n",
    "\n",
    "* Why is image recognition hard?\n",
    "    * Image can only be represented as an array of *numbers*\n",
    "    * So much *variances*\n",
    "        * Viewpoint variation\n",
    "        * Illumination\n",
    "        * Deformation (Posing)\n",
    "        * Occlusion (Covered)\n",
    "        * Intraclass variation\n",
    "        * Background clutter\n",
    "     \n",
    "     \n",
    "* Image classification in a nutshell\n",
    "$$\n",
    "Image \\rightarrow \\left (\\begin{matrix} \\\\Classifier\\\\ \\\\ \\end{matrix} \\right) \\rightarrow Prediction\n",
    "$$\n",
    "<p style=\"text-align: center;\">\n",
    "$\\downarrow$<br>What should be here?\n",
    "</p>    \n",
    "\n",
    "#### 1. Rule base\n",
    "\n",
    "* Find edges, corners, hard code for each class.\n",
    "* Super brittle, super inefficient.\n",
    "* NO.\n",
    "    \n",
    "    \n",
    "#### 2. KNN (K-nearest neighbor)\n",
    "* Train : Memorize all training data. \n",
    "* Evaluate : Compute distance between input image and each trained image. Then vote from top k closest images.\n",
    "\n",
    "\n",
    "* Distance metrics  \n",
    "    $L1 : \\sum_i|p_{1i} - p_{2i}|$  \n",
    "    $L2 : \\sqrt{\\sum_i(p_{1i} - p_{2i})^2}$  \n",
    "    ...basically can be anything\n",
    "\n",
    "\n",
    "* Works, but still not a good choice\n",
    "    1. Distance metric is not very meaningful. \n",
    "         * L1,L2 distance can be easily manipulated, such that two completely different images can have the same distance from an image we want to classify.\n",
    "    2. Curse of dimensionality  \n",
    "        * Each image can be represented as points on $\\mathbb{R}^{number-of-pixels}$, and their coordinates represented by each pixel values. \n",
    "        * Number of pixels = Number of axis = 255x bigger image space (in monochrome)\n",
    "        * To make an effective classifier, the image space has to be filled. (so that it can properly know which class is 'close')\n",
    "        * So for bigger images or higher resolutions, this is practically impossible.\n",
    "    3. Speed\n",
    "        * KNN : Fast training(O(1)) / Slow evaluating(O(N))\n",
    "        * Ideal : Slow training / Fast evaluating\n",
    "            \n",
    "            \n",
    "            \n",
    "#### 3. Linear classifier\n",
    "$$\n",
    "\\begin{matrix}\n",
    "Image & \\rightarrow & f(x,W) & \\rightarrow & Score \\\\\n",
    " & & & &  & \\Rightarrow Prediction \\\\\n",
    "x & \\rightarrow\\ & Wx + b & \\rightarrow &  s \\\\\n",
    "3072 \\times 1 & & (10 \\times 3072) (10 \\times 1) && 10 \\times 1\n",
    "\\end{matrix}\n",
    "$$\n",
    "\n",
    "* Linear classifier as decision boundaries\n",
    "    * Each row of W are inner dot producted with the image.\n",
    "    * Which means each row of $W$ can be interpreted as a linear decision boundary, since it has constant coefficient(values of $W$) for each variable(values of $x$).\n",
    "    * $W$ spins the boundary, and  \n",
    "      $b$ translates the boundary, so that they're not origin-oriented \n",
    "      \n",
    "      \n",
    "      \n",
    "* Linear classifier as templates\n",
    "    * $i$th result from dot producting $i$th row with $x$ will be the score of $i$th class (i.e. how much the classifier thinks the given image is in that class) \n",
    "    * So each rows of W are trying to find how its corresponding class should look like.\n",
    "    * As a result, each row of W becomes a 'template' for its corresponding class.\n",
    "    \n",
    "    \n",
    "* Linear classifier as NN\n",
    "    * Instead of memorizing every single training image, just create one image for each class!\n",
    "    * Instead of L1 and L2 metric, use inner-product metric!\n",
    "    * Linear classifier is basically a fancy NN.\n",
    "\n",
    "    \n",
    "* Better, but still has limits\n",
    "    1. Since all decision boundaries are all linear(and combining linear things are also linear), it cannot solve **non-linear** problems. \n",
    "    2. The classifier cannot contain enough data representation. One template for each class is not enough to include every variances (viewpoint, intraclass variation, etc).  \n",
    "    e.g. Red car facing left / Blue car facing front / Green car facing back"
   ]
  },
  {
   "cell_type": "markdown",
   "metadata": {},
   "source": [
    "# 🤔\n",
    "\n",
    "* Bias gives data independent preferences for certain classes over another. I get that, why would it give more preference to a class that has MORE data?"
   ]
  },
  {
   "cell_type": "markdown",
   "metadata": {},
   "source": [
    "# Loss functions (\"How bad is the W?\")\n",
    "<br>\n",
    "$$\n",
    "Image \\rightarrow f(x,W) \\rightarrow Score \\Rightarrow L(s,y) \\Rightarrow Loss\n",
    "$$\n",
    "\n",
    "\n",
    "#### 1. SVM (Multiclass support vector machine / Hinge loss)  \n",
    "* \"The score of the correct class($s_{y_i}$) should be higher than other scores($s_j$) by a certain margin($\\Delta$).\"\n",
    "    \n",
    "    The loss of $i$th image is$$ L_i = \\sum_{j \\ne y_i} max(0, s_j - s_{y_i} + \\Delta)$$\n",
    "    and total loss is$$ L = \\frac{1}{m}\\sum_iL_i $$\n",
    "    so basically$$ L = \\frac{1}{m}\\sum_{i}\\sum_{j \\ne y_i} max(0, W^T_jx_i - W^T_{y_i}x_{i} + \\Delta)$$  \n",
    "\n",
    "* Value of $\\Delta$ doesn't matter, since the weights can arbitrarily scale through different delta values. Still, they can work similar to the regularization strength $\\lambda$.\n",
    "\n",
    "#### 2. Regularization\n",
    "* Choosing W\n",
    "    * Is the $W$ for $Loss=0$ unique?\n",
    "    * No. On SVM $2W$ and $3W$ also will(possibly not $0.5W$), since it'll just scale the whole score by the same constant. (Remember linear!)\n",
    "    * So with all these infinitely many possible $W$'s that are all perfect, which one should we choose?\n",
    "    * K.I.S.S and Occam's Razor : Make it as simple as possible! Make the weights smaller  \n",
    " <br>     \n",
    "* Use regularization!\n",
    "    * Regularization penalizes the weights for being to large, and thus being complex.\n",
    "    * The classifier can have a more complex form, but it has to overcome the regularization penalty to do so.\n",
    "    * Where $\\lambda$ is the regularization strength, a hyperparameter.  \n",
    "    $$\n",
    "        L := L + \\lambda R(W)\n",
    "    $$  \n",
    "\n",
    "* Regularization metrics\n",
    "    * L1 :$ R(W) = \\sum_k\\sum_l w^2_{k,l} $\n",
    "    * L2 :$ R(W) = \\sum_k\\sum_l |w_{k,l}| $  \n",
    "    \n",
    "    \n",
    "* $\\Delta$ and $\\lambda$\n",
    "    * Both tradeoff between loss from data and loss from regularization. Delta is the mandatory gap the classifier has to make, which makes it scale its weights up or down to match to gap. \n",
    "    * For example, the two inner products would be $$w_{11}x_1 + w_{12}x_2 + w_{13}x_3 = s_1$$ and $$w_{21}x_1 + w_{22}x_2 + w_{23}x_3 = s_2$$ so that $$\\Delta = s_2 - s_1 = (w_{21}-w_{11})x_1 + (w_{22}-w_{12})x_2 + (w_{23}-w_{13})x_3$$ Then scailing $$W := 2W$$ would give $$\\Delta' = (2w_{21}-2w_{11})x_1 + (2w_{22}-2w_{12})x_2 + (2w_{23}-2w_{13})x_3 = 2((w_{21}-w_{11})x_1 + (w_{22}-w_{12})x_2 + (w_{23}-w_{13})x_3)$$ so $$\\Delta' = 2\\Delta$$ and In this sense, Delta works just like lambda.\n",
    "    * As a result, we don't need to care about delta, since lambda can do the work.\n",
    "    \n",
    "#### 3. Cross-entropy loss (Softmax)\n",
    "* Softmax function\n",
    "    * The score from $Wx+b$ is hard to interpret. We need something to make it clearer.\n",
    "    * Score $\\rightarrow$ Normalized probability\n",
    "    $$\n",
    "    s_j := \\frac{s_j}{\\sum_i s_i}\n",
    "    $$\n",
    "    such that\n",
    "    $$\n",
    "    \\sum_i s_i = 1\n",
    "    $$\n",
    "    Now that's better! All we need is a new loss function for this.\n",
    "\n",
    "\n",
    "* Cross-entropy\n",
    "    $$\n",
    "        L_i = -log(s_{y_i})\n",
    "    $$\n",
    "    so basically\n",
    "    $$\n",
    "        L_i = -log(\\frac{e^{W^T_{y_i}x_i}}{\\sum_j e^{W^T_{j}x_i}})\n",
    "    $$\n",
    "    or\n",
    "    $$\n",
    "        L_i = -log(e^{W^T_{y_i}x_i}) + log(\\sum_j e^{W^T_{j}x_i})\n",
    "    $$\n",
    "\n",
    "    * Cross-entropy loss vs Hinge-loss\n",
    "    Hinge loss will satisfy after a certain margin, but cross-entropy loss will never be satisfied and will forever try to improve the weights. This is because it interprets the scores as probability, and it uses exponential function. For cross-entropy loss to be (near) 0, $ s_{y_i} \\rightarrow \\infty $ and $ s_j (j \\ne y_i) \\rightarrow -\\infty$.  \n",
    "    \n",
    "    * Numerical stability  \n",
    "      Also exponential functions can blow up so easily!"
   ]
  },
  {
   "cell_type": "code",
   "execution_count": 2,
   "metadata": {},
   "outputs": [
    {
     "name": "stdout",
     "output_type": "stream",
     "text": [
      "[0.00000000e+000 1.00000000e+000 1.40359222e+217             inf]\n"
     ]
    },
    {
     "name": "stderr",
     "output_type": "stream",
     "text": [
      "c:\\users\\user\\appdata\\local\\programs\\python\\python36\\lib\\site-packages\\ipykernel_launcher.py:3: RuntimeWarning: overflow encountered in exp\n",
      "  This is separate from the ipykernel package so we can avoid doing imports until\n"
     ]
    }
   ],
   "source": [
    "# Even 1000 is too much for exp\n",
    "f = np.array([-1000, 0, 500, 1000])\n",
    "print(np.exp(f))"
   ]
  },
  {
   "cell_type": "markdown",
   "metadata": {},
   "source": [
    "Apparently exponential functions can't handle large numbers very well. But it seems like they can handle smaller or negative numbers!\n",
    "We can fix this by fixing the maximum value to 0, while keeping the same loss formula.\n",
    "$$\n",
    "L_i = -log(\\frac{e^{W^T_{y_i}x_i}}{\\sum_j e^{W^T_j x_i}})\n",
    "= -log(\\frac{C e^{W^T_{y_i}x_i}}{C \\sum_j e^{W^T_j x_i}})\n",
    "= -log(\\frac{e^{W^T_{y_i}x_i + logC}}{\\sum_j e^{W^T_j x_i + logC}}) \n",
    "$$\n",
    "\n",
    "So we can add/subtract same values from $f = Wx$ and still have the same loss function!"
   ]
  },
  {
   "cell_type": "code",
   "execution_count": 3,
   "metadata": {},
   "outputs": [
    {
     "name": "stdout",
     "output_type": "stream",
     "text": [
      "[0.00000000e+000 0.00000000e+000 7.12457641e-218 1.00000000e+000]\n"
     ]
    }
   ],
   "source": [
    "# Beware; -2000 is also harsh for exp.\n",
    "f -= np.max(f)\n",
    "print(np.exp(f))"
   ]
  },
  {
   "cell_type": "markdown",
   "metadata": {},
   "source": [
    "# Optimization\n",
    "\n",
    "Now that we know how terrible our W is, are we just gonna cry? Piss our pants maybe? No, we're making it better!\n",
    "\n",
    "But how?\n",
    "\n",
    "#### 1. Random search\n",
    "Props to https://www.youtube.com/watch?v=DaPJkYo2quc\n",
    "![Yes](bogobest.png)\n",
    "\n",
    "Solving the system is extremely difficult and will even become impossible once we step into neural networks. Instead of trying to find the solution at once, we want to find the solution gradually, step by step.\n",
    "\n",
    "#### 2. Random local search\n",
    "* Choose a random direction everytime.\n",
    "* Bogo bad\n",
    "\n",
    "#### 3. Gradient descent\n",
    "1. Compute gradient\n",
    "\n",
    "2. Go down\n",
    "\n",
    "3. That's all"
   ]
  },
  {
   "cell_type": "markdown",
   "metadata": {},
   "source": [
    "# Gradient descent\n",
    "\n",
    "...or is it?\n",
    "\n",
    "#### 1. Gradient\n",
    "* Numerical gradient\n",
    "    * By the definition of gradient\n",
    "    $$\n",
    "    \\frac{\\delta f(x)}{\\delta x} = \\lim_{h\\rightarrow 0}\\frac{f(x+h)-f(x)}{h}\n",
    "    $$\n",
    "    or use the *centered formula* for better results\n",
    "    $$\n",
    "    \\lim_{h\\rightarrow 0}\\frac{f(x+h)-f(x-h)}{2h}\n",
    "    $$\n",
    "    * This is super easy, but slow and expensive. It's also unaccurate and numerically unstable, since h must be near 0.\n",
    "    * Great as a debugging tool\n",
    "\n",
    "\n",
    "* Analytic gradient\n",
    "    * Use calculus\n",
    "    * Quite easy to make mistakes, but much faster, since it's all hard coded into one formula!\n",
    "\n",
    "#### 2. Descent\n",
    "$$\n",
    "W := W - \\alpha \\frac{\\delta L}{\\delta W}\n",
    "$$\n",
    "\n",
    "* Hyperparameter $\\alpha$\n",
    "    * Decides your \"step size\"\n",
    "    * Your direction is technically optimal only for an extremely small step size, because of the nature of derivative($\\lim_{h\\rightarrow 0}$). Imagine going downhill from Mt. BaekDu. When $\\alpha$ is too big, you'll end up in Busan in one step. But when it's too small, you'll probably starve to death before even halfway there to the destination. Choosing the right step size is extremely important.\n",
    "    \n",
    "\n",
    "#### 3. Mini-batch gradient descent\n",
    "* When there are millions of image in training set, we can't perform gradient descent over every single image at once. We'll just constantly pick random 256(or other power of 2) images and train with these.\n",
    "* Why power of 2?\n",
    "    * Many vectorized operations work faster when the inputs are the power of 2.\n",
    "\n",
    "#### 4. Stochastic gradient descent\n",
    "* Train with only one image every iteration.\n",
    "* Mini-batch is better, since we can vectorize the process to compute at once.\n",
    "* Weirdly enough, **also refers to mini-batch gradient descent**."
   ]
  },
  {
   "cell_type": "markdown",
   "metadata": {},
   "source": [
    "# 🤔\n",
    "\n",
    "Why should gradient descent work? $\\frac{\\delta z}{\\delta x} = k$ means nothing more than \"When $x$ increases by a small number $h$, $z$ increases by $kh$\". $k$ is the 'proportion' **OF** $z$ in relation to $x$. Why should it be the direction of $x$?\n",
    "\n",
    "First of all, I didn't see that looking at more than one variable gives you **infinite** possible paths. Unlike when looking at only one direction, which in turn will have only two choices: front or back. So the '$k$' not only contains the sudden steepness, it also contributes to the vector of direction we need to go. Now, how can we make sure that the gradient is actually the best path?\n",
    "\n",
    "Let's first think on a linear plane."
   ]
  },
  {
   "cell_type": "code",
   "execution_count": 2,
   "metadata": {},
   "outputs": [
    {
     "data": {
      "application/vnd.jupyter.widget-view+json": {
       "model_id": "ed3b5147fb044bb6b7420cb3e26ec5a1",
       "version_major": 2,
       "version_minor": 0
      },
      "text/plain": [
       "VBox(children=(Figure(camera=PerspectiveCamera(fov=46.0, position=(0.0, 0.0, 2.0), quaternion=(0.0, 0.0, 0.0, …"
      ]
     },
     "metadata": {},
     "output_type": "display_data"
    }
   ],
   "source": [
    "x,y = np.meshgrid(range(-2,13), range(-2,13))\n",
    "z = (-x+y)\n",
    "\n",
    "ipv.figure()\n",
    "ipv.scatter(np.array([8.]),np.array([2.]),np.array([-6.]), marker = 'sphere')\n",
    "ipv.plot_surface(x,y,z, color='skyblue')\n",
    "ipv.plot_wireframe(x,y,x*0, color='white')\n",
    "ipv.plot([0,10], [0,10], [0,0], color='black')\n",
    "ipv.plot(np.array([8,5,2]),np.array([2,5,8]),np.array([0,0,6]))\n",
    "ipv.plot(np.array([8,8]),np.array([2,2]),np.array([-6,0]))\n",
    "ipv.plot(np.array([8,4,0]),np.array([2,4,6]),np.array([0,0,6]))\n",
    "ipv.plot(np.array([8,3,-2]),np.array([2,3,4]),np.array([0,0,6]))\n",
    "ipv.plot(np.array([8,6,4]),np.array([2,6,10]),np.array([0,0,6]))\n",
    "ipv.plot(np.array([8,7,6]),np.array([2,7,12]),np.array([0,0,6]))\n",
    "ipv.plot(np.array([4.5,5,5.5]),np.array([4.5,4,4.5]),np.array([0,0,0]), color='black')\n",
    "ipv.plot(np.array([-2,6]),np.array([4,12]),np.array([6,6]), color='blue')\n",
    "ipv.show()"
   ]
  },
  {
   "cell_type": "markdown",
   "metadata": {},
   "source": [
    "Suppose we want to take a step to maximize z from the red point(8,2,-6). Note that we cannot touch z's value, we can only optimize z by updating x and y. The red lines on the white grid(which is xy-plane) are 5 of infinite possible direction to choose from, and the blue line indicates where z=6 on the plane. Here, we can see that the direction that is perpedicular to the black line(intesection of blue plane and xy-plane) is in fact also perpendicular to the blue line, meaning that this is the fastest direction to reach z=6. (I've kinda misdrew this as the 'step' starts on the xy-plane and not to red point, but this doesn't matter on a plane.)\n",
    "\n",
    "Let's see if that direction is the same as the gradient. A plane's general formula would be\n",
    "$$\n",
    "ax+by+cz=d\n",
    "$$\n",
    "and the intersection of this plane and xy-plane would be\n",
    "$$\n",
    "ax+by=d\n",
    "$$\n",
    "so the vector of intersection line would be\n",
    "$$\n",
    "\\vec{v} = (-b, a, 0)\n",
    "$$\n",
    "And the gradient of x and y in respect to z would be\n",
    "$$\n",
    "(\\frac{\\delta z}{\\delta x},\\frac{\\delta z}{\\delta y})= (a,b)\n",
    "$$\n",
    "Finally, inner dot producting these to give\n",
    "$$\n",
    "(a,b) \\cdot (-b,a) = -ab+ba = 0\n",
    "$$\n",
    "OH, so they ARE perpendicular! Now we know that the gradient is the optimal direction on a plane!\n",
    "\n",
    "But what about non-linear functions? If they are not planes, this logic won't work!  \n",
    "We can solve this by getting a tangent plane on current point. Then we can put linear planes on non-linear spaces, and do the same thing again!"
   ]
  },
  {
   "cell_type": "code",
   "execution_count": 3,
   "metadata": {},
   "outputs": [
    {
     "data": {
      "application/vnd.jupyter.widget-view+json": {
       "model_id": "d404d70063a3481d95ef8131c76eab3f",
       "version_major": 2,
       "version_minor": 0
      },
      "text/plain": [
       "VBox(children=(Figure(camera=PerspectiveCamera(fov=46.0, position=(0.0, 0.0, 2.0), quaternion=(0.0, 0.0, 0.0, …"
      ]
     },
     "metadata": {},
     "output_type": "display_data"
    }
   ],
   "source": [
    "x,y = np.meshgrid(range(-10,10), range(-10,10))\n",
    "paraboloid = x*x + y*y\n",
    "# -8(x-4) -6(y-3) + (z-25) = 0\n",
    "tangent_plane = 8*(x-4) + 6*(y-3) + 25 \n",
    "ipv.figure()\n",
    "obj = ipv.plot_surface(x,y,paraboloid)\n",
    "obj.color = [.3,.3,.2,.7]\n",
    "obj.material.transparent = True\n",
    "ipv.plot_surface(x,y,tangent_plane, color='white')\n",
    "ipv.scatter(np.array([4., 0.]),np.array([3., 0.]),np.array([25., 0.]), marker='sphere', color='white')\n",
    "ipv.plot(np.array([4, 0]),np.array([3, -1]),np.array([25, 1]))\n",
    "ipv.plot(np.array([4, 0, 0]),np.array([3, -1, -1]),np.array([25, -31, 1]))\n",
    "ipv.show()"
   ]
  },
  {
   "cell_type": "markdown",
   "metadata": {},
   "source": [
    "Note that following the red line on the paraboloid doesn't actually directly lead to the critical point(white in the center). This is not because the gradient is wrong, but because gradient only finds the best path **in its local region**. That's why we have to iterate through this multiple times, with small steps."
   ]
  },
  {
   "cell_type": "code",
   "execution_count": 28,
   "metadata": {},
   "outputs": [
    {
     "data": {
      "image/png": "[encoded data removed]",
      "text/plain": [
       "<Figure size 432x288 with 4 Axes>"
      ]
     },
     "metadata": {
      "needs_background": "light"
     },
     "output_type": "display_data"
    }
   ],
   "source": [
    "#SVM visualization\n",
    "delta = 1\n",
    "\n",
    "s_j = 2\n",
    "s_yi = np.arange(-5,5,.1)\n",
    "loss = np.maximum(np.zeros(len(s_yi)),s_j-s_yi+delta)\n",
    "plt.subplot(2,2,1)\n",
    "plt.plot(s_yi, loss)\n",
    "plt.annotate(\"grad:-1\", xy=(0, 3.5), xytext=(-70, 30), textcoords='offset points',\n",
    "            arrowprops=dict(facecolor='orange', shrink=0.05))\n",
    "plt.annotate(\"s_j\", xy=(s_j-.5,.5))\n",
    "plt.scatter(s_j,0, c='red')\n",
    "plt.xlabel(\"s_y_i\")\n",
    "plt.ylabel(\"loss\")\n",
    "plt.title(\"SVM - Correct label POV\")\n",
    "\n",
    "s_yi = -2\n",
    "s_j = np.arange(-5,5,.1)\n",
    "loss = np.maximum(np.zeros(len(s_j)),s_j-s_yi+delta)\n",
    "plt.subplot(2,2,2)\n",
    "plt.plot(s_j, loss)\n",
    "plt.annotate(\"grad:1\", xy=(2,5.5), xytext=(-60, -30), textcoords='offset points',\n",
    "            arrowprops=dict(facecolor='orange', shrink=0.05))\n",
    "plt.annotate(\"s_yi\", xy=(s_yi+.5,.5))\n",
    "plt.scatter(s_yi, 0, c='red')\n",
    "plt.ylabel(\"loss\")\n",
    "plt.xlabel(\"s_j\")\n",
    "plt.title(\"SVM - Incorrect label POV\")\n",
    "\n",
    "#Softmax visualization\n",
    "yi = 3\n",
    "j = 1\n",
    "s = np.random.rand(10,1)*10\n",
    "temp_score = np.sum(np.exp(s))-np.exp(s[yi])\n",
    "s_yi = np.arange(-25,25,.1)\n",
    "softmax_yi = np.exp(s_yi) / (np.exp(s_yi) + temp_score)\n",
    "loss = -np.log(softmax_yi)\n",
    "plt.subplot(2,2,3)\n",
    "plt.xlabel(\"s_yi\")\n",
    "plt.ylabel(\"loss\")\n",
    "plt.annotate(\"s_j\", xy=(s[j]-.5,.5))\n",
    "plt.scatter(s[j],0, c='red')\n",
    "plt.plot(s_yi, loss)\n",
    "plt.title(\"Softmax - Correct label POV\")\n",
    "\n",
    "s = np.random.rand(10,1)*10\n",
    "temp_score = np.sum(np.exp(s))-np.exp(s[j])\n",
    "s_j = np.arange(-25,25,.1)\n",
    "softmax_ji = np.exp(s[yi]) / (temp_score + np.exp(s_j))\n",
    "loss = -np.log(softmax_ji)\n",
    "plt.subplot(2,2,4)\n",
    "plt.xlabel(\"s_j\")\n",
    "plt.ylabel(\"loss\")\n",
    "plt.annotate(\"s_yi\", xy=(s[yi]-.5,.5))\n",
    "plt.scatter(s[yi],0, c='red')\n",
    "plt.plot(s_j, loss)\n",
    "plt.title(\"Softmax - Incorrect label POV\")\n",
    "\n",
    "plt.subplots_adjust(wspace=.6, hspace=.6)\n",
    "plt.show()"
   ]
  },
  {
   "cell_type": "code",
   "execution_count": 159,
   "metadata": {},
   "outputs": [
    {
     "data": {
      "image/png": "[encoded data removed]",
      "text/plain": [
       "<Figure size 432x288 with 2 Axes>"
      ]
     },
     "metadata": {
      "needs_background": "light"
     },
     "output_type": "display_data"
    }
   ],
   "source": [
    "# SVM visualization, this time while changing values W\n",
    "delta = 1\n",
    "yi = 2\n",
    "\n",
    "x = np.append(np.random.rand(1,5)*10, np.ones(1))\n",
    "W = np.random.rand(6,10)*10\n",
    "del_W = np.random.rand(6,10)*10\n",
    "#del_W = np.zeros((6, 10))\n",
    "#del_W[0,0] = 1\n",
    "#del_W[1,1] = -1\n",
    "alpha = np.arange(-10, 10, 1)\n",
    "\n",
    "svm_loss = []\n",
    "softmax_loss = []\n",
    "\n",
    "for a in alpha:\n",
    "    score = np.dot(x, W+del_W*a)\n",
    "    svm_loss.append(np.sum(np.max(score - score[yi] + delta, 0)) - delta)\n",
    "    \n",
    "    score -= np.max(score) # numerical stability\n",
    "    softmax = np.exp(score[yi]) / np.sum(np.exp(score))\n",
    "    if softmax != 0:\n",
    "        softmax_loss.append(-np.log(softmax))\n",
    "    else:\n",
    "        softmax_loss.append(0)\n",
    "\n",
    "plt.subplot(2,1,1)\n",
    "plt.plot(alpha, svm_loss)\n",
    "plt.ylabel(\"Loss\")\n",
    "plt.title(\"SVM - W POV\")\n",
    "\n",
    "plt.subplot(2,1,2)\n",
    "plt.plot(alpha, softmax_loss)\n",
    "plt.ylabel(\"Loss\")\n",
    "plt.title(\"Softmax - W POV\")\n",
    "\n",
    "plt.subplots_adjust(hspace = .6)\n",
    "plt.show()"
   ]
  },
  {
   "cell_type": "markdown",
   "metadata": {},
   "source": [
    "# 🤔\n",
    "\n",
    "* Why does SVM loss change its trajectory 2 or 3 times when W changes in a random direction? When does it change 2 times? When 3 times?"
   ]
  },
  {
   "cell_type": "markdown",
   "metadata": {},
   "source": [
    "## L1 vs L2\n",
    "\n",
    "1. Rotation (L1,L2 as distance metric)\n",
    "    * After rotating the coordinate system, the points that had the same L1 distance from the origin now has different distances. L2 on the other hand, is not effected by the rotation since it forms a circle.\n",
    "\n",
    "![L1L2](L1andL2_1.png)\n",
    "\n",
    "2. Feature representation \n",
    "    * L1 : When features have some meaning. (e.g. House price prediction, where features such as number of rooms, floors, garden size, number of bathrooms, etc has a clear meaning to the price.)\n",
    "    * L2 : When features have no meaning or it's vague (e.g. Image detection, where each features are just pixel values that don't directly lead to a certain class.)\n",
    "    \n",
    "    * **Even with such intuition, trying out both is a better idea**"
   ]
  },
  {
   "cell_type": "markdown",
   "metadata": {},
   "source": [
    "## Dataset partition (for tuning hyperparameter)\n",
    "\n",
    "Keep in mind : **We are trying to evaluate WILD data, not training data.**\n",
    "    \n",
    "$\\begin{matrix} 1: & ( & & & Train & & & ) \\\\\n",
    "     2: & ( & & Train & & Test & & ) \\\\ \n",
    "     3: &( & Train & & Validation & & Test & ) \\\\\n",
    "     4: &( & Fold1 & Fold2 & ... & Fold N & Test & )  \\end{matrix}$  \n",
    "\n",
    "1. Train 100% (X)\n",
    "    * Overfitting train data is like preparing for a test by memorizing all the questions and answers in the textbook, 'understanding' nothing.\n",
    "    * Yet overfitting for small data can be a good debug tool.\n",
    "    \n",
    "    \n",
    "    \n",
    "2. Train - Test (X)\n",
    "    * Hard to check if current hyperparameter setting is good or not, because we cannot monitor test accuracy mid-training.\n",
    "    * The hyperparameter setting can be 'perfect' for the test set by luck. (which is not lucky at all)\n",
    "    \n",
    "\n",
    "3. Train - Validation - Test (O)\n",
    "    * Both validation and test set represent wild data, and will not be used to update the weights.\n",
    "    * Weights are updated only by train set, and validation set is constantly evaluated so we can check mid-training if the classifier is overfitting or not training at all.\n",
    "    * Test set is only evaluated once, at the very last stage.\n",
    "   \n",
    "   \n",
    "4. Cross validation (O)\n",
    "    * Great choice when dataset is small\n",
    "    * Divide the dataset by N-fold and testset. Then train N-times separately, with each ith fold being the validation set in ith training.\n",
    "    \n",
    "    \n",
    "* Make sure the partition is completely **random**.\n",
    "    * Be sure to partition the dataset AFTER collecting all the data you need.\n",
    "    * Otherwise the partition will become biased and the classifier won't be trained properly.\n",
    "    \n",
    "    \n",
    "* Re-training with the testset after finding a good parameter can give you an additional 1% accuracy. "
   ]
  },
  {
   "cell_type": "markdown",
   "metadata": {},
   "source": [
    "# Train acc VS Val acc\n",
    "\n",
    "* Capacity\n",
    "\n",
    "* Regularization"
   ]
  },
  {
   "cell_type": "markdown",
   "metadata": {},
   "source": []
  }
 ],
 "metadata": {
  "kernelspec": {
   "display_name": "Python 3",
   "language": "python",
   "name": "python3"
  },
  "language_info": {
   "codemirror_mode": {
    "name": "ipython",
    "version": 3
   },
   "file_extension": ".py",
   "mimetype": "text/x-python",
   "name": "python",
   "nbconvert_exporter": "python",
   "pygments_lexer": "ipython3",
   "version": "3.6.0"
  }
 },
 "nbformat": 4,
 "nbformat_minor": 2
}
