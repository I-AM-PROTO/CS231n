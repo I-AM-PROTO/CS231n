{
 "cells": [
  {
   "cell_type": "code",
   "execution_count": 6,
   "metadata": {},
   "outputs": [],
   "source": [
    "import matplotlib.pyplot as plt\n",
    "import numpy as np"
   ]
  },
  {
   "cell_type": "markdown",
   "metadata": {},
   "source": [
    "# CS231n - Day3 (Lecture 6-7)"
   ]
  },
  {
   "cell_type": "markdown",
   "metadata": {},
   "source": [
    "## Neural network\n",
    "\n",
    "#### 2 layer neural network\n",
    "$$\n",
    "\\begin{matrix}\n",
    "x & \\rightarrow & Wx + b & \\rightarrow & s & \\Rightarrow & Prediction \\\\\n",
    "3072 \\times 1 & & (10\\times 3072)(10\\times 1) & & 10 \\times 1\n",
    "\\end{matrix}\n",
    "$$ <br>\n",
    "$$\n",
    "\\downarrow\n",
    "$$ <br>\n",
    "$$\n",
    "\\begin{matrix}\n",
    "x & \\rightarrow & W_1x + b & \\rightarrow & max(W_1x+b) & \\rightarrow & W_2(max(W_1x+b)) & \\rightarrow& s & \\Rightarrow & Prediction \\\\\n",
    "3072 \\times 1 & & (100\\times 3072)(100\\times 1) & & 100 \\times 1 & & (10 \\times 100) (10 \\times 1) & & 10\\times 1\n",
    "\\end{matrix}\n",
    "$$ <br>\n",
    "   * The important layer here is the $max$ function, because of its non-linearity. WIthout a non-liear property between the two linear functions ($W_1, W_2$), a combination of linear functions will be another linear function. As they say, \"the non-linearity is where we get the *wiggle*\"\n",
    "    \n",
    "#### Biological inspiration\n",
    "* A neuron model\n",
    "    * Neurons have multiple dendrites, a single axon, and multiple axon terminals. Inputs from other neurons or sensors are connected to *dendrites* via *synapses*.\n",
    "    * Each synapses have its *synaptic strength*($w_0$), which interacts multiplicatively to the input signal($x_0 \\rightarrow w_0x_0$). With these coefficients, neurons can amplify or neglect certain input signals.\n",
    "    * In a simple neuron, these signals travel through the dendrite and gather in the *cell body*, where they all get summed.\n",
    "    * If the total sum is over a certain threshold, the neuron *fires* a signal, with its frequency proportional to the strength of signal. The frequency is determined by an *activation function*.\n",
    "    * So basically\n",
    "    $$\n",
    "    \\begin{matrix}\n",
    "    \\rightarrow & x_0 & \\rightarrow & w_0x_0 &             &               &             & \\\\\n",
    "                &     &             &        & \\searrow    &               &             & \\\\\n",
    "    \\rightarrow & x_1 & \\rightarrow & w_1x_1 & \\rightarrow & \\sum_i w_ix_i & \\rightarrow & f(\\sum_i w_ix_i) \\rightarrow\\\\\n",
    "                &     &             &        & \\nearrow    &               &             & \\\\\n",
    "    \\rightarrow & x_2 & \\rightarrow & w_2x_2 &             &               &             &\n",
    "    \\end{matrix}\n",
    "    $$\n",
    "    \n",
    "    \n",
    "* **Problem** : It's extremely coarse.\n",
    "    * The synapses are not linear weights, but a complex non-linear dynamic system.\n",
    "    * The model omits the timing of output spike, which is known to be important.\n",
    "    * [pdf1](https://neurophysics.ucsd.edu/courses/physics_171/annurev.neuro.28.061604.135703.pdf) [pdf2](https://www.sciencedirect.com/science/article/abs/pii/S0959438814000130)\n",
    "    \n",
    "    \n",
    "* Interpretation as a linear classifier\n",
    "    * As you probably already noticed, the neuron model is quite similar to a linear classifier. Well actually, it is! The only difference is that neuron model doesn't yet have a loss function.\n",
    "    * Training with sigmoid activation and cross-entropy loss would lead to a binary softmax classifier(a.k.a logistic regression). Since the result of sigmoid function is between (0,1), the score can be a possiblity($p$) of one of the two classes, and the other being the remainder($1-p$).\n",
    "    * In the same sense, using max activation and hinge loss will give a binary SVM classifier.\n",
    "    * Regularization can be considered as *gradual forgetting*, from the effect of regularization of forcing all weights($w$) to be simpler(near 0)."
   ]
  },
  {
   "cell_type": "code",
   "execution_count": 31,
   "metadata": {
    "scrolled": true
   },
   "outputs": [
    {
     "data": {
      "image/png": "[encoded data removed]",
      "text/plain": [
       "<Figure size 432x288 with 1 Axes>"
      ]
     },
     "metadata": {
      "needs_background": "light"
     },
     "output_type": "display_data"
    }
   ],
   "source": [
    "# Visualization of sigmoid\n",
    "x = np.arange(-10, 10, .1)\n",
    "sig = 1/(1+np.exp(-x))\n",
    "\n",
    "plt.plot([-10, 10],[0, 0], c='k')\n",
    "plt.plot([0, 0],[0, 1], c='k')\n",
    "plt.plot(x, sig, c='orange')\n",
    "plt.xlabel(\"x\")\n",
    "plt.ylabel(\"s\")\n",
    "plt.title(\"Sigmoid\")\n",
    "plt.show()"
   ]
  },
  {
   "cell_type": "markdown",
   "metadata": {},
   "source": [
    "## Activation functions\n",
    "\n",
    "#### 1. Sigmoid\n",
    "$$\n",
    "\\sigma(x) = \\frac{1}{1+e^{-x}}\n",
    "$$\n",
    "* Originally frequently used, due to its \"seemingly\" nice appeal to biological interpretation (Threshold and firing whatnot).\n",
    "* Not used nowadays. Apparently it was a terrible idea.\n",
    "* 2 major problems\n",
    "    * Dying gradients  \n",
    "    When the input values to the sigmoid layer have large absolute values, their local gradients will be near 0. This means that this gradient cannot make meaningful updates to the connected weights, thus the 'kill' of gradients.  \n",
    "    Also if weight initialization is poorly done, the starting point could be these 'saturated' points, leading to slow or no learning.\n",
    "       <br> <br>\n",
    "    * Not zero-centered  \n",
    "    In an extreme case like sigmoid, a layer's output is purely positive. This is a problem for the neurons **after** this layer. The neuron right after the sigmoid will only get positive inputs. The local gradient is related to the gradient from future layer and the inputs. And since all inputs were positive, the local gradients will either all be positive or negative, depending on the gradient from future layer.  \n",
    "    This is a huge deal, since we'll have extremely limited directions. For n-variables, we only have $\\frac{1}{2^n}$ region of choice from the original. We cannot make optimal steps with this constraint.\n",
    "    <br> <br>\n",
    "    * Computationally expensive  \n",
    "    Because exp()"
   ]
  },
  {
   "cell_type": "code",
   "execution_count": 32,
   "metadata": {},
   "outputs": [
    {
     "data": {
      "image/png": "[encoded data removed]",
      "text/plain": [
       "<Figure size 432x288 with 1 Axes>"
      ]
     },
     "metadata": {
      "needs_background": "light"
     },
     "output_type": "display_data"
    }
   ],
   "source": [
    "# Visualization of tanh\n",
    "x = np.arange(-10, 10, .1)\n",
    "tanh = np.tanh(x)\n",
    "\n",
    "plt.plot([-10, 10],[0, 0], c='k')\n",
    "plt.plot([0, 0],[-1, 1], c='k')\n",
    "plt.plot(x, tanh, c='orange')\n",
    "plt.xlabel(\"x\")\n",
    "plt.ylabel(\"s\")\n",
    "plt.title(\"Tanh\")\n",
    "plt.show()"
   ]
  },
  {
   "cell_type": "markdown",
   "metadata": {},
   "source": [
    "#### 2. Tanh\n",
    "$$\n",
    "f(x) = tanh(x) = 2\\sigma (2x) - 1\n",
    "$$\n",
    "* Solved zero-centering, still saturates.\n",
    "* Basically a scaled version of sigmoid."
   ]
  },
  {
   "cell_type": "code",
   "execution_count": 33,
   "metadata": {},
   "outputs": [
    {
     "data": {
      "image/png": "[encoded data removed]",
      "text/plain": [
       "<Figure size 432x288 with 1 Axes>"
      ]
     },
     "metadata": {
      "needs_background": "light"
     },
     "output_type": "display_data"
    }
   ],
   "source": [
    "# Visualization of ReLU\n",
    "x = np.arange(-10, 10, .1)\n",
    "ReLU = np.maximum(x, np.zeros(len(x)))\n",
    "\n",
    "plt.plot([-10, 10],[0, 0], c='k')\n",
    "plt.plot([0, 0],[0, 10], c='k')\n",
    "plt.plot(x, ReLU, c='orange')\n",
    "plt.title(\"ReLU\")\n",
    "plt.xlabel(\"x\")\n",
    "plt.ylabel(\"s\")\n",
    "plt.show()"
   ]
  },
  {
   "cell_type": "markdown",
   "metadata": {},
   "source": [
    "#### 3. ReLU (Rectified Linear Unit)\n",
    "$$\n",
    "f(x) = max(0,x)\n",
    "$$\n",
    "* The most common one in practice\n",
    "    * Converges [6x](http://www.cs.toronto.edu/~fritz/absps/imagenet.pdf) faster than sigmoid/tanh. It is said that this is due to its linear, non-saturating form.\n",
    "\n",
    "    * No saturation in positive region\n",
    "\n",
    "    * Computationally much more efficient (only max function)\n",
    "\n",
    "    * Actually more biologically plausible!\n",
    "\n",
    "\n",
    "* But still some limits...\n",
    "    * Saturates in negative region  \n",
    "    This means if the local classifier(linear part of a neuron) is *'pushed'* out of data cloud, the ReLU after that will only output 0. And most importantly the local gradient will all be 0, thus kiling ReLU and the linear part.\n",
    "    This also means **ReLU is sensitive to large learning rates**. ReLU easily dies when a large gradient flows through. As much as 40% of all ReLU can be dead if the learning rate is too high.  \n",
    "    It may be practical to **initialize ReLU neurons with small positive biases**. (e.g. 0.01)\n",
    "    <br> <br>\n",
    "    * Not zero centered"
   ]
  },
  {
   "cell_type": "code",
   "execution_count": 38,
   "metadata": {},
   "outputs": [
    {
     "data": {
      "image/png": "[encoded data removed]",
      "text/plain": [
       "<Figure size 432x288 with 1 Axes>"
      ]
     },
     "metadata": {
      "needs_background": "light"
     },
     "output_type": "display_data"
    }
   ],
   "source": [
    "# Visualization of PReLU\n",
    "x = np.arange(-10, 10, .1)\n",
    "alpha = .1\n",
    "PReLU = np.maximum(x, alpha*x)\n",
    "\n",
    "plt.plot([-10, 10],[0, 0], c='k')\n",
    "plt.plot([0, 0],[-1, 10], c='k')\n",
    "plt.plot(x, PReLU, c='orange')\n",
    "plt.title(\"Leaky ReLU / PReLU\")\n",
    "plt.xlabel(\"x\")\n",
    "plt.ylabel(\"s\")\n",
    "plt.show()"
   ]
  },
  {
   "cell_type": "markdown",
   "metadata": {},
   "source": [
    "#### 4. Leaky ReLU / PReLU (Parametric -)\n",
    "$$\n",
    "    f(x) = max(0.01x, x)\\\\\n",
    "    f(x) = max(\\alpha x, x)\n",
    "$$\n",
    "* Solves the saturation problem, while keeping the pros of ReLU. \n",
    "    * This doesn't seem to be only good, since it loses some robustness to noise.\n",
    "\n",
    "* $\\alpha$ is **not** a hyperparameter, it's a parameter that should be updated with backprop. "
   ]
  },
  {
   "cell_type": "code",
   "execution_count": 53,
   "metadata": {},
   "outputs": [
    {
     "data": {
      "image/png": "[encoded data removed]",
      "text/plain": [
       "<Figure size 432x288 with 1 Axes>"
      ]
     },
     "metadata": {
      "needs_background": "light"
     },
     "output_type": "display_data"
    }
   ],
   "source": [
    "# Visualization of ELU\n",
    "x = np.arange(-5, 0, .1)\n",
    "alpha = .5\n",
    "ELU = alpha * (np.exp(x)-1)\n",
    "\n",
    "plt.plot([-5, 5],[0, 0], c='k')\n",
    "plt.plot([0, 0],[0, 5], c='k')\n",
    "plt.plot(x, ELU, c='orange')\n",
    "plt.plot([0, 5], [0, 5], c='orange')\n",
    "plt.title(\"ELU\")\n",
    "plt.xlabel(\"x\")\n",
    "plt.ylabel(\"s\")\n",
    "plt.show()"
   ]
  },
  {
   "cell_type": "markdown",
   "metadata": {},
   "source": [
    "#### 5. ELU (Exponential Linear Units)\n",
    "$$\n",
    "f(x) = \\left( \\begin{matrix} x & ,x>0 \\\\ \\alpha(exp(x)-1) & ,x\\leq 0 \\end{matrix} \\right.\n",
    "$$\n",
    "* All of ReLU + Closer zero-centering\n",
    "* Negative saturation region gives some robustness to noise\n",
    "* But... exp() is expensive"
   ]
  },
  {
   "cell_type": "markdown",
   "metadata": {},
   "source": [
    "# 🤔\n",
    "* What does saturation on negative regime have to do with robustness to noise?  \n",
    "I think 'killing' the gradients in this case can be helpful for 'ignoring' some noisy data. Some datas can form an island, which drops val accuracy when we try to overfit. On leaky ReLU all those data will have a gradient, constantly causing updates. On ELU or ReLU however, the classifier have a choice to put them on regative regime, thus ignoring them."
   ]
  },
  {
   "cell_type": "markdown",
   "metadata": {},
   "source": [
    "#### 6. Maxout \"Neuron\"\n",
    "$$\n",
    "f(x) = max(w^T_1x+b_1, w^T_2x+b_2)\n",
    "$$\n",
    "* Generalizes ReLU and Leaky ReLU\n",
    "* All parts are linear, doesn't die!\n",
    "* But... double parameters is expensive"
   ]
  },
  {
   "cell_type": "markdown",
   "metadata": {},
   "source": [
    "# 🤔\n",
    "* Is it possible that $w_1$ and $w_2$ will learn to be the exact same? It could be pretty fatal, because the activation function will basically be linear!  \n",
    "Well not quite fatal, since being linear means being nothing. It's rather a waste.\n",
    "\n",
    "\n",
    "* Can there be a way to use this technique, but with less parameters? Like making only half extra parameters to replace random weights."
   ]
  },
  {
   "cell_type": "markdown",
   "metadata": {},
   "source": [
    "#### tl;dr\n",
    "\n",
    "Use : ReLU (But keep an eye on learning rates, and the number of dead ReLU's.)  \n",
    "Maybe : Leaky ReLU / Maxout / ELU  \n",
    "Eh... : tanh  \n",
    "No. : sigmoid"
   ]
  },
  {
   "cell_type": "markdown",
   "metadata": {},
   "source": [
    "## Deep learning is useless?\n",
    "\n",
    "* It is said that a 2 layer network with a sigmoidal function can approximate **any** continuous function. So why bother using 10 layer networks?\n",
    "\n",
    "\n",
    "* Well, it **can** do, but as much as the sloth in Zootopia can complete a full marathon. Deep learning can do infinitely better. Especially in convnet, since it carries the idea of hierachical observation (edges/corners -> face parts -> face)\n",
    "\n",
    "\n",
    "* [Getting a good intuition of this seems pretty cool](http://neuralnetworksanddeeplearning.com/chap4.html). Put simple, we can approximate an activation function to become a *step* function, such that\n",
    "$$\n",
    "f(x) = \\left( \\begin{matrix} 1 & ,x\\leq k \\\\ 0 & ,x>k \\end{matrix} \\right.\n",
    "$$\n",
    "and we'll be able to approximate any function that satisfies an arbitrary error rate $\\epsilon > 0$."
   ]
  },
  {
   "cell_type": "markdown",
   "metadata": {},
   "source": [
    "## Layer size\n",
    "\n",
    "* Bigger layer = More hidden neurons = More complex functions = More *capacity*\n",
    "* Which leads to a more accurate, yet overfitting model.\n",
    "* We need to keep it simple and thus more *general*, so should we use small layer size? NO!\n",
    "* Smaller networks usually have little local minima, but most of them turn out to be terrible(high loss). Bigger networks, on the other hand, has much more local minimas. They however are usually have much better loss.\n",
    "* We can get generality by other measures(e.g. Dropout, regularization, input noise)."
   ]
  },
  {
   "cell_type": "markdown",
   "metadata": {},
   "source": [
    "# 🤔\n",
    "* I absolutely have no idea what in heavens is going on [here](https://cs.stanford.edu/people/karpathy/convnetjs/demo/classify2d.html)"
   ]
  },
  {
   "cell_type": "markdown",
   "metadata": {},
   "source": [
    "## Data preprocessing\n",
    "\n",
    "Both mean subtraction and normalization makes the loss function less sensitive to the weights. The intuition is that as we move further away from the origin, \n",
    "\n",
    "#### 1. Mean subtraction\n",
    "* Subtracting mean image (Pixel-wise mean)\n",
    "* Subtracting mean (Total mean)\n",
    "* Subtracting mean channel (Channel-wise mean)\n",
    "    \n",
    "    \n",
    "#### 2. Normalization\n",
    "* Dividing by total std\n",
    "* Dividing by pixel-wise std\n",
    "    * Use when it's sure that each dimension has different distribution, yet they have same importance to making a prediction. \n",
    "\n",
    "* In case of images, each dimension(pixel) has similar range(0-255), so it's not quite necessary to do this.\n",
    "\n",
    "#### 3. PCA / Whitening\n",
    "* TODO fill this"
   ]
  },
  {
   "cell_type": "markdown",
   "metadata": {},
   "source": [
    "## Weight Initialization\n",
    "\n",
    "#### 1. All zero\n",
    "* With zero centered/normalized data, the trained final weights are probably half positive and half negative.\n",
    "* So the intuition here is that we let the classifier choose which ones to put positive or negative.\n",
    "* Problem :  Since all scores will be the same, all gradients will be the same, and all templates will be updated in the exact same direction. As a result, it'll be no better than having just one template.\n",
    "\n",
    "#### 2. Random numbers\n",
    "* Uniform initialization is problematic. OK, but we still want them to be near 0. Then random numbers near 0 should do the trick!\n",
    "* Variance\n",
    "    * When the random weights are too small, the activation(output matrix) from each layer will become near uniform 0. The same thing will happen in backprop, so the gradients will also go to zero.\n",
    "    * When random weights are too big, the activation will also become too big and sparse, which usually kills the gradient.\n",
    "* Problem : The variance of activation is proportional to the number of inputs, since more inputs mean more values to sum."
   ]
  },
  {
   "cell_type": "code",
   "execution_count": 51,
   "metadata": {},
   "outputs": [
    {
     "name": "stdout",
     "output_type": "stream",
     "text": [
      "\n",
      "h =  3\n",
      "iter 0 : 0.05037867860026177\n",
      "iter 1 : 0.05702380733721083\n",
      "iter 2 : 1.0080950025962847\n",
      "iter 3 : 11.211647459649079\n",
      "iter 4 : 9.863022188477165\n",
      "iter 5 : 81.66260385676888\n",
      "iter 6 : 15.554132224388951\n",
      "iter 7 : 173.38432641188604\n",
      "iter 8 : 222.92927717257717\n",
      "iter 9 : 1255.8858946360613\n",
      "iter 10 : 2928.165968408363\n",
      "\n",
      "h =  10\n",
      "iter 0 : 0.7965001921751311\n",
      "iter 1 : 4.492322272212002\n",
      "iter 2 : 96.94766997303098\n",
      "iter 3 : 473.0146128091228\n",
      "iter 4 : 6895.35595600622\n",
      "iter 5 : 99325.3831602217\n",
      "iter 6 : 856412.6958530731\n",
      "iter 7 : 6054665.269803217\n",
      "iter 8 : 62213701.96443077\n",
      "iter 9 : 381088106.1562104\n",
      "iter 10 : 2327421911.2049294\n",
      "\n",
      "h =  30\n",
      "iter 0 : 0.6935029945895187\n",
      "iter 1 : 18.088699863554627\n",
      "iter 2 : 614.8829578072001\n",
      "iter 3 : 19481.97585974153\n",
      "iter 4 : 515853.7350596593\n",
      "iter 5 : 13392298.496776136\n",
      "iter 6 : 512723257.7621299\n",
      "iter 7 : 16242111660.168684\n",
      "iter 8 : 352747659393.64465\n",
      "iter 9 : 8527591249217.054\n",
      "iter 10 : 243982283234022.38\n"
     ]
    }
   ],
   "source": [
    "# Activation variance\n",
    "# Ignore the exploding values,\n",
    "# focus on how fast the variance grow with each hidden size.\n",
    "hidden_sizes = [3, 10, 30]\n",
    "\n",
    "for h in hidden_sizes:\n",
    "    x = np.random.randn(h)\n",
    "    print(\"\\nh = \", h)\n",
    "    print(\"iter 0 :\", np.var(x))\n",
    "    for i in range(10):\n",
    "        hidden = np.random.randn(h, h)       \n",
    "        x = np.dot(x, hidden)\n",
    "        print(\"iter\",i+1,\":\", np.var(x))"
   ]
  },
  {
   "cell_type": "markdown",
   "metadata": {},
   "source": [
    "#### 3. Xavier\n",
    "* We want to keep the output variance as the input variance. Such that $Var(s) = Var(x)$\n",
    "\n",
    "* Match the variance of W to $1/n$ by multiplying $1/\\sqrt{n}$, where n is the number of inputs\n",
    "    * In case of conv layers, n is still the total number of parameters. (i.e. filter_size^2 * number_of_filters)\n",
    "    \n",
    "\n",
    "* Proof\n",
    "$$\n",
    "Var(s) = Var\\left( \\sum^n_i w_ix_i \\right)\n",
    "$$\n",
    "  Where $s$ and all of $w_i$,$x_i$ are all random variables.  \n",
    "  And because all $w_i$'s and $x_i$'s are independent,\n",
    "$$\n",
    "= \\sum^n_i Var(w_ix_i)\n",
    "$$\n",
    "  (proof below)\n",
    "$$\n",
    "= \\sum^n_i [E(w_i)]^2Var(x_i) + [E(x_i)]^2Var(w_i) + Var(w_i)Var(x_i) \\\\\n",
    "$$\n",
    "  Since we zero-center both inputs and weights, $E(x_i) = E(w_i) = 0$.  \n",
    "  So\n",
    "$$\n",
    "= \\sum^n_i Var(w_i)Var(x_i)\n",
    "$$\n",
    "  and as a result,\n",
    "$$\n",
    "Var(s) = (nVar(w))Var(x)\n",
    "$$\n",
    "\n",
    "\n",
    "* So for $Var(s) = Var(x)$,\n",
    "$$\n",
    "W := \\frac{W}{\\sqrt{n}}\n",
    "$$  \n",
    "such that $$\n",
    "Var\\left(\\frac{W}{\\sqrt{n}}\\right) =  Var(W)\\frac{1}{n}\n",
    "$$"
   ]
  },
  {
   "cell_type": "markdown",
   "metadata": {},
   "source": [
    "# 🤔\n",
    "Xavier nooo\n",
    "\n",
    "* Product distribution\n",
    "    * Assume two random variables $X, Y$ and their p.d.f $f_X(x), f_Y(y)$\n",
    "    * Assume $Z = XY$. How can $f_Z(z)$ be expressed?  \n",
    "    Use that $ \\frac{dF_Z(z)}{dz} = f_Z(z)$\n",
    "    $$\n",
    "    \\int_{-\\infty}^z f_Z(\\tau) d\\tau = F_Z(z) = P(XY\\leq z)\n",
    "    $$\n",
    "    Divide by X's sign\n",
    "    $$\n",
    "    = P(XY \\leq z, X \\geq 0) + P(XY \\leq z, X \\leq 0)\n",
    "    $$\n",
    "    such that\n",
    "    $$\n",
    "    = P(Y \\leq \\frac{z}{X}, X \\geq 0) + P(Y \\geq \\frac{z}{X}, X \\leq 0)\n",
    "    $$\n",
    "    express in integral\n",
    "    $$\n",
    "    = \\int^{\\infty}_0 \\int^{\\frac{z}{x}}_{-\\infty} f_X(x)f_Y(y) dydx + \\int^0_{-\\infty} \\int^{\\infty}_{\\frac{z}{x}} f_X(x)f_Y(y) dydx  \n",
    "    $$\n",
    "    or\n",
    "    $$\n",
    "    = \\int^{\\infty}_0 f_X(x) \\int^{\\frac{z}{x}}_{-\\infty} f_Y(y) dydx + \\int^0_{-\\infty} f_X(x) \\int^{\\infty}_{\\frac{z}{x}} f_Y(y) dydx  \n",
    "    $$\n",
    "    Now that we have $f_Z(z)$, take the derivative from both sides.  \n",
    "    And by chain rule,\n",
    "    $$\n",
    "    f(z) = \\int^{\\infty}_0 f_X(x)f_Y\\left(\\frac{z}{x}\\right)\\frac{1}{x} dx - \\int^0_{-\\infty} f_X(x)f_Y\\left(\\frac{z}{x}\\right)\\frac{1}{x} dx\n",
    "    $$\n",
    "    as a result,\n",
    "    $$\n",
    "    f(z) = \\int^{\\infty}_{-\\infty} f_X(x)f_Y\\left(\\frac{z}{x}\\right)\\frac{1}{|x|} dx \n",
    "    $$\n",
    "\n",
    "\n",
    "* Product mean\n",
    "    * How can $E(Z)$ be expressed?  \n",
    "    By the definition of covariance,\n",
    "    $$\n",
    "    cov(X,Y) = E(XY) - E(X)E(Y)\n",
    "    $$\n",
    "    so\n",
    "    $$\n",
    "    E(Z) = cov(X,Y) + E(X)E(Y)\n",
    "    $$\n",
    "\n",
    "* Product variance\n",
    "    * How can $Var(Z)$ be expressed?  \n",
    "    Use the product mean $E(Z) = cov(X,Y) + E(X)E(Y)$ <br> <br>\n",
    "    $$\n",
    "    \\begin{matrix}\n",
    "    Var(XY) & = & E(X^2Y^2) - [E(XY)]^2 \\\\ \\\\\n",
    "     & = & cov(X^2, Y^2) + E(X^2)E(Y^2) - [E(XY)]^2 \\\\ \\\\\n",
    "     & = & cov(X^2, Y^2) + (Var(X) + [E(X)]^2)(Var(Y) + [E(Y)]^2) - (cov(X,Y)+E(X)E(Y))^2 \\\\ \\\\ \n",
    "    \\end{matrix}\n",
    "    $$\n",
    "    **If X and Y are independent** (e.g. RGB values and weights in neural network),  \n",
    "    the variables are uncorrelated, so all correlation coefficients are 0.\n",
    "    $$\n",
    "    = (Var(X) + [E(X)]^2)(Var(Y) + [E(Y)]^2) - [E(X)E(Y)]^2\n",
    "    $$\n",
    "    as a result,\n",
    "    $$\n",
    "    Var(XY) = [E(X)]^2Var(Y) + [E(Y)]^2Var(X) + Var(X)Var(Y)\n",
    "    $$"
   ]
  },
  {
   "cell_type": "code",
   "execution_count": 54,
   "metadata": {},
   "outputs": [
    {
     "name": "stdout",
     "output_type": "stream",
     "text": [
      "\n",
      "h =  3 , Xavier: True\n",
      "iter 0 : 0.2571882529542194\n",
      "iter 1 : 0.22610851761038409\n",
      "iter 2 : 0.05388918769231843\n",
      "iter 3 : 0.023192161952574716\n",
      "iter 4 : 0.0004110977211831653\n",
      "iter 5 : 0.0031350507615370477\n",
      "iter 6 : 0.0002303150221736258\n",
      "iter 7 : 0.007360682930955668\n",
      "iter 8 : 0.002883339384947295\n",
      "iter 9 : 0.006381112568295329\n",
      "iter 10 : 0.008000758146960225\n",
      "\n",
      "h =  10 , Xavier: True\n",
      "iter 0 : 0.4870417457500216\n",
      "iter 1 : 1.043353525785387\n",
      "iter 2 : 0.7088567007187313\n",
      "iter 3 : 0.6917093722616752\n",
      "iter 4 : 0.7472061238722276\n",
      "iter 5 : 0.7613808074171756\n",
      "iter 6 : 0.62472156560976\n",
      "iter 7 : 0.5122619506966843\n",
      "iter 8 : 1.3765585221349421\n",
      "iter 9 : 1.197484431046083\n",
      "iter 10 : 1.8070629500189153\n",
      "\n",
      "h =  30 , Xavier: True\n",
      "iter 0 : 1.2062658668400912\n",
      "iter 1 : 1.7315794292099718\n",
      "iter 2 : 1.0294142966143172\n",
      "iter 3 : 2.165472684546356\n",
      "iter 4 : 1.676739570259764\n",
      "iter 5 : 1.5307424519186499\n",
      "iter 6 : 1.5480886096773465\n",
      "iter 7 : 1.395255310128029\n",
      "iter 8 : 1.243177885044761\n",
      "iter 9 : 1.3486102643523539\n",
      "iter 10 : 1.7992142755696223\n",
      "\n",
      "h =  1500 , Xavier: True\n",
      "iter 0 : 1.059215116928066\n",
      "iter 1 : 1.0475542359734484\n",
      "iter 2 : 1.0484106185547186\n",
      "iter 3 : 1.0194487200230393\n",
      "iter 4 : 1.0317457994630985\n",
      "iter 5 : 1.1376336335336485\n",
      "iter 6 : 1.0752017477074567\n",
      "iter 7 : 1.0408505582401089\n",
      "iter 8 : 1.013625190060961\n",
      "iter 9 : 1.013140131877602\n",
      "iter 10 : 1.0164613701586636\n"
     ]
    }
   ],
   "source": [
    "# Activtion variance with xavier\n",
    "# Seems to work better as the size increases\n",
    "hidden_sizes = [3, 10, 30, 1500]\n",
    "xavier = True\n",
    "\n",
    "for h in hidden_sizes:\n",
    "    x = np.random.randn(h)\n",
    "    print(\"\\nh = \", h, \", Xavier:\", xavier)\n",
    "    print(\"iter 0 :\", np.var(x))\n",
    "    for i in range(10):\n",
    "        hidden = np.random.randn(h, h)\n",
    "        if (xavier):\n",
    "            hidden /= np.sqrt(h)\n",
    "       \n",
    "        x = np.dot(x, hidden)\n",
    "        print(\"iter\",i+1,\":\", np.var(x))"
   ]
  },
  {
   "cell_type": "markdown",
   "metadata": {},
   "source": [
    "#### 4. More than Xavier\n",
    "* He initialization\n",
    "    * After ReLU, half of activation will become 0. This will fold the variance by half everytime.\n",
    "    * So what we actually want for the output variance is not to be the same as input variance, but **twice** as much.\n",
    "    $$\n",
    "    W:= W\\sqrt{\\frac{2}{n}}\n",
    "    $$\n",
    "\n",
    "* Some suggestion\n",
    "    * Try considering output size along with input size. $Var(w) = 2/(n_{in} + n_{out})$\n",
    "    \n",
    "#### 5. Bias initialization\n",
    "* Since initial values are extremely small, it is possible that the ReLU could not give proper gradients.\n",
    "* So to solve that, some people like to initialize biases with small constant value (e.g. 0.01)\n",
    "* However it's not sure that this works as intended. Some cases even come out to be otherwise.\n",
    "* It's more common to use 0 initialization for biases."
   ]
  },
  {
   "cell_type": "code",
   "execution_count": 70,
   "metadata": {},
   "outputs": [
    {
     "name": "stdout",
     "output_type": "stream",
     "text": [
      "\n",
      "h =  10 , ReLU: True , Xavier: True , sqrt: True\n",
      "iter 0 : 1.423037082289094\n",
      "iter 1 : 0.1318823115934617\n",
      "iter 2 : 0.050166295983738673\n",
      "iter 3 : 0.09859039490900613\n",
      "iter 4 : 0.14426800433467207\n",
      "iter 5 : 0.5002692029704352\n",
      "iter 6 : 0.24244127283635838\n",
      "iter 7 : 0.1551592962595018\n",
      "iter 8 : 0.09751763937510743\n",
      "iter 9 : 0.14228968016705373\n",
      "iter 10 : 0.2528308747985054\n",
      "\n",
      "h =  100 , ReLU: True , Xavier: True , sqrt: True\n",
      "iter 0 : 1.2022664904623452\n",
      "iter 1 : 0.7992476423347596\n",
      "iter 2 : 0.6188430033799187\n",
      "iter 3 : 0.5390716600200968\n",
      "iter 4 : 0.4029714081216565\n",
      "iter 5 : 0.3556424235579992\n",
      "iter 6 : 0.38875170955820076\n",
      "iter 7 : 0.5843759475556153\n",
      "iter 8 : 0.6752559974009206\n",
      "iter 9 : 0.6502836809413306\n",
      "iter 10 : 0.7187391020599107\n",
      "\n",
      "h =  1500 , ReLU: True , Xavier: True , sqrt: True\n",
      "iter 0 : 0.9505930364091709\n",
      "iter 1 : 0.6680577885316701\n",
      "iter 2 : 0.667692777696497\n",
      "iter 3 : 0.6129175287632036\n",
      "iter 4 : 0.6166500345462389\n",
      "iter 5 : 0.6002702627742302\n",
      "iter 6 : 0.5992601462680731\n",
      "iter 7 : 0.6027738283642772\n",
      "iter 8 : 0.6204303756631806\n",
      "iter 9 : 0.5842789063359379\n",
      "iter 10 : 0.5808799614378573\n"
     ]
    }
   ],
   "source": [
    "# Kaiming / MSRA initalization\n",
    "# Seems to work better as the size increases\n",
    "hidden_sizes = [10, 100, 1500]\n",
    "\n",
    "xavier = True # Performs xavier initialization\n",
    "sqrt = True # Performs additional sqrt(2) initalization\n",
    "ReLU = True # Adds ReLU layer\n",
    "\n",
    "for h in hidden_sizes:\n",
    "    x = np.random.randn(h)\n",
    "    print(\"\\nh = \", h, \", ReLU:\", ReLU, \", Xavier:\", xavier, \", sqrt:\", sqrt)\n",
    "    print(\"iter 0 :\", np.var(x))\n",
    "    for i in range(10):\n",
    "        hidden = np.random.randn(h, h)\n",
    "        if (xavier):\n",
    "            hidden /= np.sqrt(h)\n",
    "            if (sqrt):\n",
    "                hidden *= np.sqrt(2)\n",
    "       \n",
    "        x = np.dot(x, hidden)\n",
    "        if (ReLU):\n",
    "            x[x<0] = 0\n",
    "        print(\"iter\",i+1,\":\", np.var(x))"
   ]
  },
  {
   "cell_type": "markdown",
   "metadata": {},
   "source": [
    "#### 6. Batch normalization\n",
    "* You want unit gaussian every time? Make them so!\n",
    "* Also add another flexibility by giving an additional mean and std parameter.\n",
    "    * After training, those will basically become an identity function ($\\gamma = 1$ and $\\beta = 0$).\n",
    "* Normalize and re-shift each $j$th dimension separately. ($\\epsilon$ is for numerical stability)\n",
    "    * For conv layers, normalize each $j$th filter.\n",
    "$$\n",
    "x_{i,j} = \\gamma_j \\frac{x_{i,j} - \\mu_j}{\\sqrt{\\sigma^2_j+\\epsilon}} + \\beta_j\n",
    "$$\n",
    "\n",
    "* But mean and std cannot be computed at test time, because it's just one image!\n",
    "    * Average out the history of mean and std we got mid-training, and use that for test time.\n",
    "    * This could be problematic, since it works differently training and testing.\n",
    "    \n",
    "    \n",
    "    \n",
    "* Easier training, better gradient, faster convergence.\n",
    "* Robustness to initialization, works as regularization.\n",
    "\n",
    "#### 7. More than batch normalization\n",
    "* Layer normalization\n",
    "    * Instead of dimension-wise/filter-wise normalization, normalize for every image.\n",
    "\n",
    "* Instance normalization (conv)\n",
    "    * Instead of filter-wise normalization, normalize for every pixel of each filters."
   ]
  },
  {
   "cell_type": "markdown",
   "metadata": {},
   "source": [
    "## tl;dr\n",
    "* Activation function : Use ReLU\n",
    "* Data preprocessing : Subtract mean image or mean RGB\n",
    "* Weight initialization : Use Xavier or He\n",
    "* Batch Normalization : Good idea!"
   ]
  },
  {
   "cell_type": "markdown",
   "metadata": {},
   "source": [
    "## Hyperparameter tuning\n",
    "* Searching\n",
    "    * Search in log scale\n",
    "    * Do a coarse search first, then go specific.\n",
    "    * If good results are at the edge, maybe the range is not so good.\n",
    "    * Instead of grid search, do **random search**. In grid search you're checking the same parameter multiple times, which is a waste.\n",
    "  \n",
    "  \n",
    "* Learning rate\n",
    "![lr](images\\learningrates.jpeg)\n",
    "\n",
    "\n",
    "* Initialization\n",
    "    * If the loss doesn't go down for a while and suddenly starts to drop, suspect bad initialization.\n",
    "    \n",
    "\n",
    "* Train acc vs Val acc\n",
    "    * The gap between two acc's means the degree of overfitting.\n",
    "    * If the gap is too big, it needs more regularization.\n",
    "    * If there's no gap, maybe the model can do better (e.g. low capacity(hidden layer))"
   ]
  },
  {
   "cell_type": "markdown",
   "metadata": {},
   "source": [
    "## Optimization\n",
    "\n",
    "#### 1. Vanilla gradient descent (SGD)\n",
    "* Problem\n",
    "    * When the landscape is ill-conditioned(e.g. oval contours), the \n",
    "    * On local minima or saddle point, the gradient is zero, and SGD gets stuck.\n",
    "        * In practice, saddle points are much more common than local minimas.\n",
    "        * Local minimas are rare, since it means all possible directions makes the loss grow.\n",
    "    * 'Stochastic' makes noisy movements.\n",
    "    \n",
    "#### 2. SGD + Momentum\n",
    "* The gradients are accumulated with certain friction.\n",
    "$$\n",
    "\\begin{matrix}\n",
    "v_{t+1} & = & \\rho v_{t} + \\nabla f(x_t) \\\\\n",
    "x_{t+1} & = & x_t - \\alpha v_{t+1}\n",
    "\\end{matrix}\n",
    "$$\n",
    "* Where $\\rho$ is the friction. Usually $\\rho$= .9 or .99\n",
    "\n",
    "* Can solve ill-conditioning, as sensitive dimensions will constantly get opposite directions that kill each other. Other dimensions will gain momentum in the same direction, and thus will converge faster.\n",
    "* Can solve local minima and saddle points, since the update doesn't rely solely on immedate gradients.\n",
    "\n",
    "#### 3. SGD + Nesterov Momentum\n",
    "* This time, the gradient ($\\nabla f(x_t)$) is not computed on current point. Rather, it's evaluated at the point where the *current velocity wants to go*. This works as if the gradient is checking if the velocity is going well, and gives it a chance to *fix* it to the correct direction.\n",
    "\n",
    "\n",
    "$$\n",
    "\\begin{matrix}\n",
    "v_{t+1} & = & \\rho v_t - \\alpha \\nabla f(x_t + \\rho v_t) \\\\\n",
    "x_{t+1} & = & x_t + v_{t+1}\n",
    "\\end{matrix}\n",
    "$$\n",
    "\n",
    "\n",
    "* $\\alpha$ works just as the same next to $\\nabla f$, since all gradients are multiplied by $\\alpha$ only once. And since each gradient is being *subtracted* to the velocity, the velocity itself must be added to the position.\n",
    "\n",
    "\n",
    "\n",
    "* But this equation is not quite good in practice. We need the gradients in $\\nabla f(x_t)$ for backpropagation, but the expression above has that extra $\\rho v_t$.  \n",
    "  Let's fix that!\n",
    "\n",
    "  Let\n",
    "$$\n",
    "\\tilde{x}_t = x_t + \\rho v_t \\\\\n",
    "\\tilde{x}_{t+1} = x_{t+1} + \\rho v_{t+1}\n",
    "$$\n",
    "  So the first equation becomes\n",
    "$$\n",
    "v_{t+1} = \\rho v_t - \\alpha \\nabla f(\\tilde{x_t})\n",
    "$$\n",
    "  and the second one becomes\n",
    "$$\n",
    "\\tilde{x}_{t+1} - \\rho v_{t+1} = \\tilde{x}_t - \\rho v_t + v_{t+1} \\\\\n",
    "\\tilde{x}_{t+1} = \\tilde{x}_t +  \\rho (v_{t+1} - v_t) + v_{t+1}\n",
    "$$\n",
    "\n",
    "  As a result,\n",
    "  $$\n",
    "  \\begin{matrix}\n",
    "  v_{t+1} & = & \\rho v_t - \\alpha \\nabla f(x_t) \\\\\n",
    "  x_{t+1} & = & x_t +  \\rho (v_{t+1} - v_t) + v_{t+1}\n",
    "  \\end{matrix}\n",
    "  $$\n",
    "  \n",
    "  Instead of following the current position, it's keeping track of *\"the point where velocity wants to go\"*. And that's easier because that's the part where we evaluate our gradient.\n",
    "  \n",
    "  \n",
    "* Momentum passing by sharp minima's\n",
    "    * Sharp minima is not a good place to land at the first place. When the dataset changes, the whole landscpae will change. And sharp minimas are prone to disappear, making the local point useless. What we want is more flat and stable minima, and momentum can help this by passing through the sharp minima's."
   ]
  },
  {
   "cell_type": "markdown",
   "metadata": {},
   "source": [
    "#### 4. AdaGrad\n",
    "* Instead of momentum, keep the running squared sum of gradients overtime.  \n",
    "When updating, divide the gradient by the square root of the sum.\n",
    "$$\n",
    "SSG := SSG + (\\nabla f(x))^2 \\\\\n",
    "x := x - \\alpha \\nabla f(x) \\frac{1}{\\sqrt{SSG} + \\epsilon}\n",
    "$$\n",
    "\n",
    "\n",
    "* In an ill-conditioned convex, sensitive dimensions will have high SSG values and low SSG for otherwise. High SSG means smaller step size and decceleration, while small SSG means bigger step size and acceleration. As a result, AdaGrad tries to make equal relative steps for each dimensions.\n",
    "\n",
    "* However, as SSG accumulates, all step sizes will eventually become very small. This can be effective for convex problems, but this is a problem on non-convex problems such as saddle points.\n",
    "\n",
    "#### 5. RMSProp\n",
    "* Addresses AdaGrad's problem by implementing a decay rate to SSG.\n",
    "$$\n",
    "SSG := \\gamma SSG + (1 - \\gamma) (\\nabla f(x))^2 \\\\\n",
    "x -= x - \\alpha \\nabla f(x) \\frac{1}{\\sqrt{SSG} + \\epsilon}\n",
    "$$\n",
    "\n",
    "\n",
    "* It can be interpreted as mixing current SSG and new gradient by the ratio of $SSG : \\nabla f(x) = 1-\\gamma : \\gamma$"
   ]
  },
  {
   "cell_type": "markdown",
   "metadata": {},
   "source": [
    "#### 6. Adam\n",
    "* Momentum and RMSProp are both good. Why not both?\n",
    "$$\n",
    "v := \\beta_1 v +  (1 - \\beta_1)\\nabla f(x) \\\\\n",
    "SSG := \\beta_2 SSG + (1-\\beta_2)(\\nabla f(x))^2 \\\\\n",
    "x := x - \\alpha \\frac{v}{\\sqrt{SSG} + \\epsilon}\n",
    "$$\n",
    "\n",
    "* Seems nice, but this is problematic at the first step.\n",
    "    * The first moment(v) and the second moment(SSG) after first step will be near 0, and when $\\beta_2 \\simeq 0.9$ the stepsize can become extremely big.\n",
    "    * To fix this, Adam adds another **bias correction term**. This prevents those values from being too small in the beginning.\n",
    "    * For $t$th iteration,\n",
    "    \n",
    "$$\n",
    "v := \\frac{\\beta_1 v +  (1 - \\beta_1)\\nabla f(x)}{1 - \\beta_1^t} \\\\\n",
    "SSG := \\frac{\\beta_2 SSG + (1-\\beta_2)(\\nabla f(x))^2}{1 - \\beta_2^t} \\\\\n",
    "x := x - \\alpha \\frac{v}{\\sqrt{SSG} + \\epsilon}\n",
    "$$\n",
    "\n",
    "  \n",
    "* A great starting optimization algorithm for many problems.\n",
    "    * Try $\\beta_1 = 0.9$, $\\beta_2 = 0.999$, learning rate = 1e-3 or 5e-4\n",
    "    \n",
    "\n",
    "* One limitation\n",
    "    * Momentum, RMSProp, and Adam are still controlling accelerations among independent axes. This means if the convex is tilted against the axes diagonally, those won't be very effective as it is on axes-aligned convexes."
   ]
  },
  {
   "cell_type": "markdown",
   "metadata": {},
   "source": [
    "## Learning rate decay\n",
    "\n",
    "Which learning rate should we choose? Do we need to use only ONE learning rate?\n",
    "\n",
    "* Usually works with SGD momentum, and not quite with Adam.\n",
    "* If done well, you can see that the loss suddenly goes down as soon as lr drops.\n",
    "\n",
    "#### 1. Step decay\n",
    "* Decay every certain steps. (e.g. ResNet  $\\alpha := 0.1\\alpha$ every 30 epochs)\n",
    "\n",
    "#### 2. Cosine decay\n",
    "* Decay with cosine curve\n",
    "$$\n",
    "\\alpha_t = \\frac{1}{2}\\alpha_0(1+cos\\left(\\frac{t\\pi}{T}\\right))\n",
    "$$\n",
    "\n",
    "Where $\\alpha_t$ is a learning rate for $t$th epoch and $T$ is the number of total epochs \n",
    "\n",
    "#### 3. Linear decay\n",
    "$$\n",
    "\\alpha_t = \\alpha_0(1-\\frac{t}{T})\n",
    "$$\n",
    "\n",
    "#### 4. Inverse square root\n",
    "$$\n",
    "\\alpha_t = \\frac{\\alpha_0}{\\sqrt{t}} \n",
    "$$\n",
    "\n",
    "#### 5. Exponential decay\n",
    "$$\n",
    "\\alpha_t = \\alpha_0 e^{-t/T}\n",
    "$$\n",
    "\n",
    "#### 6. Linear warmup\n",
    "* Giving high learing rate right over can make the loss explode.\n",
    "* Start from 0, and linearly increase it for the first ~5000 iterations."
   ]
  },
  {
   "cell_type": "markdown",
   "metadata": {},
   "source": [
    "## L-BFGS\n",
    "\n",
    "* Second-order optimization\n",
    "    * What we've been doing was first-order optimization: get the gradient and use linear approximation. Since it's drawing a tangent line to descent, we can't go very far without making a huge error.\n",
    "    * What we can do is use **Hessian** in addition to gradients to form a **quadratic approximation**. We can optimize by moving to the minima in the quadratic.\n",
    "    * And since we have an exact point to move, we don't need a learning rate(at least not in vanilla version)!\n",
    "    \n",
    "    $$\n",
    "    \n",
    "    $$"
   ]
  }
 ],
 "metadata": {
  "kernelspec": {
   "display_name": "Python 3",
   "language": "python",
   "name": "python3"
  },
  "language_info": {
   "codemirror_mode": {
    "name": "ipython",
    "version": 3
   },
   "file_extension": ".py",
   "mimetype": "text/x-python",
   "name": "python",
   "nbconvert_exporter": "python",
   "pygments_lexer": "ipython3",
   "version": "3.6.0"
  }
 },
 "nbformat": 4,
 "nbformat_minor": 2
}
